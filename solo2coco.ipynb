{
 "cells": [
  {
   "cell_type": "code",
   "execution_count": 1,
   "metadata": {},
   "outputs": [],
   "source": [
    "from pysolotools.converters.solo2coco import SOLO2COCOConverter"
   ]
  },
  {
   "cell_type": "code",
   "execution_count": 2,
   "metadata": {},
   "outputs": [],
   "source": [
    "from pysolotools.consumers import Solo"
   ]
  },
  {
   "cell_type": "code",
   "execution_count": 3,
   "metadata": {},
   "outputs": [],
   "source": [
    "import os"
   ]
  },
  {
   "cell_type": "code",
   "execution_count": 4,
   "metadata": {},
   "outputs": [
    {
     "data": {
      "text/plain": [
       "['.DS_Store',\n",
       " 'data-old',\n",
       " 'output_data_249',\n",
       " 'output_data_adam',\n",
       " 'solo2coco.ipynb',\n",
       " 'output_data_old',\n",
       " 'fiftyone_dataset.ipynb',\n",
       " 'data_249',\n",
       " 'Adam_solo_2',\n",
       " 'train',\n",
       " '.ipynb_checkpoints',\n",
       " 'myenv',\n",
       " 'data',\n",
       " 'fiftyone_data_modifier.ipynb',\n",
       " 'val']"
      ]
     },
     "execution_count": 4,
     "metadata": {},
     "output_type": "execute_result"
    }
   ],
   "source": [
    "os.listdir()"
   ]
  },
  {
   "cell_type": "code",
   "execution_count": 7,
   "metadata": {},
   "outputs": [],
   "source": [
    "input_path = \"data/solo/\"\n",
    "output_path = \"output_data\""
   ]
  },
  {
   "cell_type": "code",
   "execution_count": 8,
   "metadata": {},
   "outputs": [
    {
     "name": "stderr",
     "output_type": "stream",
     "text": [
      "/Users/krupajkothadia/Desktop/CMPE_295B/solo_2/myenv/lib/python3.9/site-packages/dataclasses_json/core.py:171: RuntimeWarning: `NoneType` object value of non-optional type scenarioRandomSeed detected when decoding DatasetMetadata.\n",
      "  warnings.warn(f\"`NoneType` object {warning}.\", RuntimeWarning)\n"
     ]
    }
   ],
   "source": [
    "solo = Solo(input_path)"
   ]
  },
  {
   "cell_type": "code",
   "execution_count": 9,
   "metadata": {},
   "outputs": [],
   "source": [
    "dataset = SOLO2COCOConverter(solo)"
   ]
  },
  {
   "cell_type": "code",
   "execution_count": 14,
   "metadata": {},
   "outputs": [
    {
     "ename": "Exception",
     "evalue": "Metadata file not found for sequence 639",
     "output_type": "error",
     "traceback": [
      "\u001b[0;31m---------------------------------------------------------------------------\u001b[0m",
      "\u001b[0;31mException\u001b[0m                                 Traceback (most recent call last)",
      "Cell \u001b[0;32mIn[14], line 1\u001b[0m\n\u001b[0;32m----> 1\u001b[0m dataset\u001b[39m.\u001b[39;49mconvert(output_path\u001b[39m=\u001b[39;49moutput_path)\n",
      "File \u001b[0;32m~/Desktop/CMPE_295B/solo_2/myenv/lib/python3.9/site-packages/pysolotools/converters/solo2coco.py:443\u001b[0m, in \u001b[0;36mSOLO2COCOConverter.convert\u001b[0;34m(self, output_path, dataset_name)\u001b[0m\n\u001b[1;32m    439\u001b[0m output \u001b[39m=\u001b[39m os\u001b[39m.\u001b[39mpath\u001b[39m.\u001b[39mjoin(output_path, dataset_name)\n\u001b[1;32m    441\u001b[0m solo_kp_map \u001b[39m=\u001b[39m \u001b[39mself\u001b[39m\u001b[39m.\u001b[39m_get_solo_kp_map()\n\u001b[0;32m--> 443\u001b[0m \u001b[39mfor\u001b[39;00m idx, frame \u001b[39min\u001b[39;00m \u001b[39menumerate\u001b[39m(\u001b[39mself\u001b[39m\u001b[39m.\u001b[39m_solo\u001b[39m.\u001b[39mframes()):\n\u001b[1;32m    444\u001b[0m     \u001b[39mself\u001b[39m\u001b[39m.\u001b[39m_pool\u001b[39m.\u001b[39mapply_async(\n\u001b[1;32m    445\u001b[0m         \u001b[39mself\u001b[39m\u001b[39m.\u001b[39m_process_instances,\n\u001b[1;32m    446\u001b[0m         args\u001b[39m=\u001b[39m(frame, idx, output, \u001b[39mself\u001b[39m\u001b[39m.\u001b[39m_solo\u001b[39m.\u001b[39mdata_path, solo_kp_map),\n\u001b[1;32m    447\u001b[0m         callback\u001b[39m=\u001b[39m\u001b[39mself\u001b[39m\u001b[39m.\u001b[39mcallback,\n\u001b[1;32m    448\u001b[0m     )\n\u001b[1;32m    449\u001b[0m \u001b[39mself\u001b[39m\u001b[39m.\u001b[39m_pool\u001b[39m.\u001b[39mclose()\n",
      "File \u001b[0;32m~/Desktop/CMPE_295B/solo_2/myenv/lib/python3.9/site-packages/pysolotools/core/iterators/frame_iterator.py:85\u001b[0m, in \u001b[0;36mFramesIterator.__next__\u001b[0;34m(self)\u001b[0m\n\u001b[1;32m     83\u001b[0m \u001b[39mif\u001b[39;00m \u001b[39mself\u001b[39m\u001b[39m.\u001b[39mframe_idx \u001b[39m>\u001b[39m\u001b[39m=\u001b[39m \u001b[39mself\u001b[39m\u001b[39m.\u001b[39mend:\n\u001b[1;32m     84\u001b[0m     \u001b[39mraise\u001b[39;00m \u001b[39mStopIteration\u001b[39;00m\n\u001b[0;32m---> 85\u001b[0m \u001b[39mreturn\u001b[39;00m \u001b[39mself\u001b[39;49m\u001b[39m.\u001b[39;49m__load_frame__(\u001b[39mself\u001b[39;49m\u001b[39m.\u001b[39;49mframe_idx)\n",
      "File \u001b[0;32m~/Desktop/CMPE_295B/solo_2/myenv/lib/python3.9/site-packages/pysolotools/core/iterators/frame_iterator.py:98\u001b[0m, in \u001b[0;36mFramesIterator.__load_frame__\u001b[0;34m(self, frame_id)\u001b[0m\n\u001b[1;32m     96\u001b[0m \u001b[39m# There should be exactly 1 frame_data for a particular sequence.\u001b[39;00m\n\u001b[1;32m     97\u001b[0m \u001b[39mif\u001b[39;00m \u001b[39mlen\u001b[39m(files) \u001b[39m!=\u001b[39m \u001b[39m1\u001b[39m:\n\u001b[0;32m---> 98\u001b[0m     \u001b[39mraise\u001b[39;00m \u001b[39mException\u001b[39;00m(\u001b[39mf\u001b[39m\u001b[39m\"\u001b[39m\u001b[39mMetadata file not found for sequence \u001b[39m\u001b[39m{\u001b[39;00msequence\u001b[39m}\u001b[39;00m\u001b[39m\"\u001b[39m)\n\u001b[1;32m     99\u001b[0m \u001b[39mself\u001b[39m\u001b[39m.\u001b[39mframe_idx \u001b[39m+\u001b[39m\u001b[39m=\u001b[39m \u001b[39m1\u001b[39m\n\u001b[1;32m    100\u001b[0m \u001b[39mreturn\u001b[39;00m \u001b[39mself\u001b[39m\u001b[39m.\u001b[39mparse_frame(files[\u001b[39m0\u001b[39m])\n",
      "\u001b[0;31mException\u001b[0m: Metadata file not found for sequence 639"
     ]
    }
   ],
   "source": [
    "dataset.convert(output_path=output_path)"
   ]
  },
  {
   "cell_type": "code",
   "execution_count": null,
   "metadata": {},
   "outputs": [],
   "source": []
  }
 ],
 "metadata": {
  "kernelspec": {
   "display_name": "fiftyonenv",
   "language": "python",
   "name": "python3"
  },
  "language_info": {
   "codemirror_mode": {
    "name": "ipython",
    "version": 3
   },
   "file_extension": ".py",
   "mimetype": "text/x-python",
   "name": "python",
   "nbconvert_exporter": "python",
   "pygments_lexer": "ipython3",
   "version": "3.9.16"
  },
  "orig_nbformat": 4
 },
 "nbformat": 4,
 "nbformat_minor": 2
}
