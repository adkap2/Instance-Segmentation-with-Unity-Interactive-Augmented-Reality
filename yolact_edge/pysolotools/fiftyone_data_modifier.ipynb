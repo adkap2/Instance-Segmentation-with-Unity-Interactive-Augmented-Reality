{
 "cells": [
  {
   "cell_type": "code",
   "execution_count": 1,
   "metadata": {},
   "outputs": [],
   "source": [
    "import fiftyone as fo\n",
    "import fiftyone.zoo as foz\n",
    "from fiftyone import ViewField as F\n",
    "\n"
   ]
  },
  {
   "cell_type": "code",
   "execution_count": 3,
   "metadata": {},
   "outputs": [
    {
     "name": "stdout",
     "output_type": "stream",
     "text": [
      " 100% |█████████████████| 368/368 [33.7s elapsed, 0s remaining, 12.8 samples/s]      \n"
     ]
    }
   ],
   "source": [
    "# load the dataset\n",
    "import os\n",
    "\n",
    "cwd = os.getcwd()\n",
    "\n",
    "# data_path = cwd + \"/data/coco/images/\"\n",
    "# labels_path = cwd + \"/data/coco/instances.json\"\n",
    "\n",
    "# data_path = cwd + \"/coco/images/\"\n",
    "# labels_path = cwd + \"/coco/instances.json\"\n",
    "\n",
    "data_path = cwd + \"../../../../../../../../media/adam/WinStorage/SyntheticHomes/output/coco/images/\"\n",
    "labels_path = cwd + \"../../../../../../../../media/adam/WinStorage/SyntheticHomes/output/coco/instances.json\"\n",
    "\n",
    "\n",
    "dataset_type = fo.types.COCODetectionDataset\n",
    "\n",
    "dataset = fo.Dataset.from_dir(\n",
    "    data_path=data_path,\n",
    "    labels_path=labels_path,\n",
    "    dataset_type = dataset_type,\n",
    "\n",
    ")"
   ]
  },
  {
   "cell_type": "code",
   "execution_count": 4,
   "metadata": {},
   "outputs": [
    {
     "name": "stdout",
     "output_type": "stream",
     "text": [
      "Name:        2023.02.08.15.41.49\n",
      "Media type:  image\n",
      "Num samples: 368\n",
      "Persistent:  False\n",
      "Tags:        []\n",
      "Sample fields:\n",
      "    id:            fiftyone.core.fields.ObjectIdField\n",
      "    filepath:      fiftyone.core.fields.StringField\n",
      "    tags:          fiftyone.core.fields.ListField(fiftyone.core.fields.StringField)\n",
      "    metadata:      fiftyone.core.fields.EmbeddedDocumentField(fiftyone.core.metadata.ImageMetadata)\n",
      "    detections:    fiftyone.core.fields.EmbeddedDocumentField(fiftyone.core.labels.Detections)\n",
      "    segmentations: fiftyone.core.fields.EmbeddedDocumentField(fiftyone.core.labels.Detections)\n",
      "    keypoints:     fiftyone.core.fields.EmbeddedDocumentField(fiftyone.core.labels.Keypoints)\n"
     ]
    }
   ],
   "source": [
    "dataset1 = dataset\n",
    "print(dataset1)"
   ]
  },
  {
   "cell_type": "code",
   "execution_count": 5,
   "metadata": {},
   "outputs": [
    {
     "name": "stdout",
     "output_type": "stream",
     "text": [
      "Dataset:     2023.02.08.15.41.49\n",
      "Media type:  image\n",
      "Num samples: 305\n",
      "Sample fields:\n",
      "    id:            fiftyone.core.fields.ObjectIdField\n",
      "    filepath:      fiftyone.core.fields.StringField\n",
      "    tags:          fiftyone.core.fields.ListField(fiftyone.core.fields.StringField)\n",
      "    metadata:      fiftyone.core.fields.EmbeddedDocumentField(fiftyone.core.metadata.ImageMetadata)\n",
      "    detections:    fiftyone.core.fields.EmbeddedDocumentField(fiftyone.core.labels.Detections)\n",
      "    segmentations: fiftyone.core.fields.EmbeddedDocumentField(fiftyone.core.labels.Detections)\n",
      "    keypoints:     fiftyone.core.fields.EmbeddedDocumentField(fiftyone.core.labels.Keypoints)\n",
      "View stages:\n",
      "    1. MapLabels(field='segmentations', map={'Chair_Arm': 'Chair', 'Chair_Child': 'Chair', 'Chair_Club': 'Chair', ...})\n",
      "    2. MapLabels(field='segmentations', map={'Desk': 'Table_Dining', 'Table_Bar': 'Table_Dining', 'Table_Child': 'Table_Dining', ...})\n",
      "    3. MapLabels(field='segmentations', map={'Bed_Bunk': 'Bed', 'Bed_Crib': 'Bed'})\n",
      "    4. MapLabels(field='segmentations', map={'Door_Sliding_Double_Metal': 'Door', 'Door_Sliding_Glass': 'Door', 'Door_Sliding_Wood': 'Door', ...})\n",
      "    5. FilterLabels(field='segmentations', filter={'$in': ['$$this.label', [...]]}, only_matches=True, trajectories=False)\n"
     ]
    },
    {
     "data": {
      "text/html": [
       "\n",
       "        <iframe\n",
       "            width=\"100%\"\n",
       "            height=\"800\"\n",
       "            src=\"http://localhost:5151/?context=ipython&subscription=27519896-de79-4c10-b091-bc089c851ab0\"\n",
       "            frameborder=\"0\"\n",
       "            allowfullscreen\n",
       "            \n",
       "        ></iframe>\n",
       "        "
      ],
      "text/plain": [
       "<IPython.lib.display.IFrame at 0x7f6049c53520>"
      ]
     },
     "metadata": {},
     "output_type": "display_data"
    }
   ],
   "source": [
    "# EXPORT   # export the dataset\n",
    "\n",
    "# Sort by class\n",
    "\n",
    "# print labels\n",
    "# dataset1 = dataset.filter_labels(\"segmentations\", F(\"label\").is_in([\"Dresser\", \"Chair_Arm\", \"Sofa\", \"Bed\", \"Nightstand\", \"Table_Dining\"]))\n",
    "\n",
    "dataset1 = dataset1.map_labels(\"segmentations\", {\"Chair_Arm\": \"Chair\", \"Chair_Child\": \"Chair\", \"Chair_Club\": \"Chair\", \"Chair_Dining\": \"Chair\", \"Chair_Lounge\": \"Chair\", \"Chair_Office\": \"Chair\", \"Chair_Stool\": \"Chair\"})\n",
    "dataset1 = dataset1.map_labels(\"segmentations\", {\"Table_Bar\": \"Table_Dining\", \"Table_Coffee\": \"Table_Dining\", \"Table_console\": \"Table\", \"Table_Desk\": \"Table_Dining\", \"Table_End\": \"Table_Dining\", \"Table_Child\": \"Table_Dining\", \"Desk\": \"Table_Dining\"})\n",
    "# dataset1 = dataset1.map_labels(\"segmentations\", {\"Window_frame\": \"Window_glass\", \"Window_frame_double\": \"Window_glass\",  \"Window_frame_horizontal\": \"Window_glass\", \"Window_frame_horizontal \": \"Window_glass\", \"Window_sill\": \"Window_glass\", \"Window_frame_single\": \"Window_glass\"})\n",
    "# dataset1 = dataset1.map_labels(\"segmentations\", {\"Window_frame_double\": \"Window_glass\"})\n",
    "dataset1 = dataset1.map_labels(\"segmentations\", {\"Bed_Bunk\": \"Bed\", \"Bed_Crib\": \"Bed\"})\n",
    "dataset1 = dataset1.map_labels(\"segmentations\", {\"Door_Sliding_Glass\": \"Door\", \"Door_Sliding_Double_Metal\": \"Door\", \"Door_Sliding_Wood\": \"Door\", \"door-double-wood\": \"Door\"})\n",
    "\n",
    "\n",
    "# dataset1 = dataset1.filter_labels(\"segmentations\", F(\"label\").is_in([\"Sofa\", \"Chair\", \"Door\", \"Table_Dining\", \"Window_glass\", \"Dresser\", \"Bench\"]))\n",
    "\n",
    "dataset1 = dataset1.filter_labels(\"segmentations\", F(\"label\").is_in([\"Sofa\", \"Chair\", \"Door\", \"Table_Dining\", \"Bed\", \"Bench\", \"Window_glass\"]))\n",
    "\n",
    "# # # Note: Window_glass has a corrupted label\n",
    "# # # Note: Dresser has a corrupted label\n",
    "\n",
    "\n",
    "print(dataset1)\n",
    "\n",
    "# Include only segmentations\n",
    "dataset1 = dataset1.exclude_fields(\"detections\").exclude_fields(\"keypoints\")\n",
    "\n",
    "# Launch as web app\n",
    "\n",
    "session = fo.launch_app(dataset1)\n",
    "\n",
    "\n",
    "# dataset1.export(\n",
    "#     export_dir=cwd + \"/data/coco/export\",\n",
    "#     dataset_type=fo.types.COCODetectionDataset,\n",
    "#     label_field=\"segmentations\",\n",
    "#     overwrite=True,\n",
    "# )\n"
   ]
  },
  {
   "cell_type": "code",
   "execution_count": 89,
   "metadata": {},
   "outputs": [
    {
     "name": "stdout",
     "output_type": "stream",
     "text": [
      "Dataset:     2023.02.02.11.27.37\n",
      "Media type:  image\n",
      "Num samples: 305\n",
      "Sample fields:\n",
      "    id:            fiftyone.core.fields.ObjectIdField\n",
      "    filepath:      fiftyone.core.fields.StringField\n",
      "    tags:          fiftyone.core.fields.ListField(fiftyone.core.fields.StringField)\n",
      "    metadata:      fiftyone.core.fields.EmbeddedDocumentField(fiftyone.core.metadata.ImageMetadata)\n",
      "    segmentations: fiftyone.core.fields.EmbeddedDocumentField(fiftyone.core.labels.Detections)\n",
      "View stages:\n",
      "    1. MapLabels(field='segmentations', map={'Chair_Arm': 'Chair', 'Chair_Child': 'Chair', 'Chair_Club': 'Chair', ...})\n",
      "    2. MapLabels(field='segmentations', map={'Desk': 'Table_Dining', 'Table_Bar': 'Table_Dining', 'Table_Child': 'Table_Dining', ...})\n",
      "    3. MapLabels(field='segmentations', map={'Bed_Bunk': 'Bed', 'Bed_Crib': 'Bed'})\n",
      "    4. MapLabels(field='segmentations', map={'Door_Sliding_Double_Metal': 'Door', 'Door_Sliding_Glass': 'Door', 'Door_Sliding_Wood': 'Door', ...})\n",
      "    5. FilterLabels(field='segmentations', filter={'$in': ['$$this.label', [...]]}, only_matches=True, trajectories=False)\n",
      "    6. ExcludeFields(field_names=['detections'])\n",
      "    7. ExcludeFields(field_names=['keypoints'])\n"
     ]
    }
   ],
   "source": [
    "# train_test_split\n",
    "\n",
    "import fiftyone.utils.random as four\n",
    "\n",
    "print(dataset1)\n",
    "\n",
    "view1, view2 = four.random_split(dataset1, [0.8, 0.2])\n",
    "\n",
    "\n"
   ]
  },
  {
   "cell_type": "code",
   "execution_count": 86,
   "metadata": {},
   "outputs": [],
   "source": [
    "# print(view1)\n",
    "# print(view2)\n",
    "\n",
    "view1.export(\n",
    "    export_dir=cwd + \"../../../../../../../../media/adam/WinStorage/SyntheticHomes/train\",\n",
    "    dataset_type=fo.types.COCODetectionDataset,\n",
    "    label_field=\"segmentations\",\n",
    "    overwrite=True,\n",
    ")\n",
    "\n",
    "view2.export(\n",
    "    export_dir=cwd + \"../../../../../../../../media/adam/WinStorage/SyntheticHomes/val\",\n",
    "    dataset_type=fo.types.COCODetectionDataset,\n",
    "    label_field=\"segmentations\",\n",
    "    overwrite=True,\n",
    ")\n"
   ]
  },
  {
   "cell_type": "code",
   "execution_count": 74,
   "metadata": {},
   "outputs": [
    {
     "name": "stdout",
     "output_type": "stream",
     "text": [
      "Downloading split 'validation' to '/home/adam/fiftyone/coco-2017/validation' if necessary\n",
      "Found annotations at '/home/adam/fiftyone/coco-2017/raw/instances_val2017.json'\n",
      "Images already downloaded\n",
      "Existing download of split 'validation' is sufficient\n",
      "Loading existing dataset 'coco-2017-validation'. To reload from disk, either delete the existing dataset or provide a custom `dataset_name` to use\n"
     ]
    }
   ],
   "source": [
    "# Access external drive\n",
    "# Get sudo access\n",
    "\n",
    "\n",
    "# print(os.listdir(\"/media/adam/Ubuntu Storage/\"))\n",
    "\n",
    "# coco_data = \"/media/adam/Ubuntu Storage/yolact_data/coco/data/\"\n",
    "\n",
    "# print(os.listdir(coco_data))\n",
    "\n",
    "\n",
    "# coco_dataset_path = coco_data + \"images/\"\n",
    "# coco_labels_path = coco_data + \"annotations/instances_train2017.json\"\n",
    "\n",
    "coco_dataset = foz.load_zoo_dataset(\n",
    "    \"coco-2017\",\n",
    "    split=\"validation\",\n",
    "    label_types=[\"segmentations\"]\n",
    "\n",
    ")\n",
    "\n",
    "\n",
    "\n",
    "# dataset_type = fo.types.COCODetectionDataset\n",
    "\n",
    "\n",
    "# coco_train_dataset = fo.Dataset.from_dir(\n",
    "#     data_path=coco_dataset_path,\n",
    "#     labels_path=coco_labels_path,\n",
    "#     dataset_type = dataset_type,\n",
    "\n",
    "# )\n",
    "\n"
   ]
  },
  {
   "cell_type": "code",
   "execution_count": 4,
   "metadata": {},
   "outputs": [],
   "source": [
    "coco_train_dataset = coco_dataset\n",
    "\n",
    "\n"
   ]
  },
  {
   "cell_type": "code",
   "execution_count": 6,
   "metadata": {},
   "outputs": [
    {
     "name": "stdout",
     "output_type": "stream",
     "text": [
      "Name:        coco-2017-validation\n",
      "Media type:  image\n",
      "Num samples: 5000\n",
      "Persistent:  False\n",
      "Tags:        []\n",
      "Sample fields:\n",
      "    id:           fiftyone.core.fields.ObjectIdField\n",
      "    filepath:     fiftyone.core.fields.StringField\n",
      "    tags:         fiftyone.core.fields.ListField(fiftyone.core.fields.StringField)\n",
      "    metadata:     fiftyone.core.fields.EmbeddedDocumentField(fiftyone.core.metadata.ImageMetadata)\n",
      "    ground_truth: fiftyone.core.fields.EmbeddedDocumentField(fiftyone.core.labels.Detections)\n"
     ]
    }
   ],
   "source": [
    "print(coco_train_dataset)"
   ]
  },
  {
   "cell_type": "code",
   "execution_count": 10,
   "metadata": {},
   "outputs": [],
   "source": [
    "# Filter by class\n",
    "\n",
    "# print labels\n",
    "coco_train_1 = coco_train_dataset.filter_labels(\"ground_truth\", F(\"label\").is_in([\"chair\", \"couch\", \"bed\", \"dining table\", \"desk\", \"toilet\", \"tv\", \"door\", \"refrigerator\", \"microwave\", \"window\"]))\n",
    "\n"
   ]
  },
  {
   "cell_type": "code",
   "execution_count": 11,
   "metadata": {},
   "outputs": [
    {
     "data": {
      "text/html": [
       "\n",
       "        <iframe\n",
       "            width=\"100%\"\n",
       "            height=\"800\"\n",
       "            src=\"http://localhost:5151/?context=ipython&subscription=a1c2a9e4-6fb3-4e7b-8245-35d348de59be\"\n",
       "            frameborder=\"0\"\n",
       "            allowfullscreen\n",
       "            \n",
       "        ></iframe>\n",
       "        "
      ],
      "text/plain": [
       "<IPython.lib.display.IFrame at 0x7f3d1393fdc0>"
      ]
     },
     "metadata": {},
     "output_type": "display_data"
    }
   ],
   "source": [
    "session = fo.launch_app(coco_train_1)"
   ]
  },
  {
   "cell_type": "code",
   "execution_count": 14,
   "metadata": {},
   "outputs": [
    {
     "name": "stdout",
     "output_type": "stream",
     "text": [
      "Dataset:     coco-2017-validation\n",
      "Media type:  image\n",
      "Num samples: 1360\n",
      "Sample fields:\n",
      "    id:           fiftyone.core.fields.ObjectIdField\n",
      "    filepath:     fiftyone.core.fields.StringField\n",
      "    tags:         fiftyone.core.fields.ListField(fiftyone.core.fields.StringField)\n",
      "    metadata:     fiftyone.core.fields.EmbeddedDocumentField(fiftyone.core.metadata.ImageMetadata)\n",
      "    ground_truth: fiftyone.core.fields.EmbeddedDocumentField(fiftyone.core.labels.Detections)\n",
      "View stages:\n",
      "    1. FilterLabels(field='ground_truth', filter={'$in': ['$$this.label', [...]]}, only_matches=True, trajectories=False)\n",
      " 100% |███████████████| 1088/1088 [15.0s elapsed, 0s remaining, 77.3 samples/s]      \n",
      " 100% |█████████████████| 272/272 [4.2s elapsed, 0s remaining, 54.6 samples/s]      \n"
     ]
    }
   ],
   "source": [
    "import os\n",
    "\n",
    "import fiftyone.utils.random as four\n",
    "\n",
    "cwd = os.getcwd()\n",
    "\n",
    "print(coco_train_1)\n",
    "\n",
    "view1, view2 = four.random_split(coco_train_1, [0.8, 0.2])\n",
    "\n",
    "\n",
    "view1.export(\n",
    "    export_dir=cwd + \"/data/coco/export/train\",\n",
    "    dataset_type=fo.types.COCODetectionDataset,\n",
    "    label_field=\"ground_truth\",\n",
    "    overwrite=True,\n",
    ")\n",
    "\n",
    "view2.export(\n",
    "    export_dir=cwd + \"/data/coco/export/val\",\n",
    "    dataset_type=fo.types.COCODetectionDataset,\n",
    "    label_field=\"ground_truth\",\n",
    "    overwrite=True,\n",
    ")"
   ]
  },
  {
   "cell_type": "code",
   "execution_count": null,
   "metadata": {},
   "outputs": [],
   "source": []
  }
 ],
 "metadata": {
  "kernelspec": {
   "display_name": "base",
   "language": "python",
   "name": "python3"
  },
  "language_info": {
   "codemirror_mode": {
    "name": "ipython",
    "version": 3
   },
   "file_extension": ".py",
   "mimetype": "text/x-python",
   "name": "python",
   "nbconvert_exporter": "python",
   "pygments_lexer": "ipython3",
   "version": "3.9.12"
  },
  "orig_nbformat": 4,
  "vscode": {
   "interpreter": {
    "hash": "e1e8bbea5f3087d655030fe74a9d86ec64c8f872305497149d0d2da63524e161"
   }
  }
 },
 "nbformat": 4,
 "nbformat_minor": 2
}
