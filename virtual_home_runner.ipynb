{
 "cells": [
  {
   "attachments": {},
   "cell_type": "markdown",
   "metadata": {},
   "source": [
    "### Notebook to communicate with Unity VirtualHome in real-time\n",
    "Author: Adam Goldstein"
   ]
  },
  {
   "cell_type": "code",
   "execution_count": 2,
   "metadata": {},
   "outputs": [],
   "source": [
    "%matplotlib notebook\n",
    "import virtualhome\n",
    "from unity_simulator.comm_unity import UnityCommunication\n",
    "from unity_simulator import utils_viz"
   ]
  },
  {
   "cell_type": "code",
   "execution_count": 5,
   "metadata": {},
   "outputs": [],
   "source": [
    "# Connect to virtual home simulator\n",
    "\n",
    "comm = UnityCommunication(timeout_wait=1000)\n"
   ]
  },
  {
   "cell_type": "code",
   "execution_count": 8,
   "metadata": {},
   "outputs": [],
   "source": [
    "# Reset the scene and get the graph to scene 3\n",
    "comm.reset(3)\n",
    "s, g = comm.environment_graph()"
   ]
  },
  {
   "cell_type": "code",
   "execution_count": 9,
   "metadata": {},
   "outputs": [],
   "source": [
    "# Add a agent \n",
    "comm.add_character('Chars/female2', initial_room='kitchen')\n",
    "\n",
    "# Get nodes for apple, desk, kitchen\n",
    "apple = [node['id'] for node in g['nodes'] if node['class_name'] == 'apple'][1]\n",
    "desk = [node['id'] for node in g['nodes'] if node['class_name'] == 'desk'][1]\n",
    "kitchen = [node['id'] for node in g['nodes'] if node['class_name'] == 'kitchen'][0]\n",
    "fridge = [node['id'] for node in g['nodes'] if node['class_name'] == 'fridge'][0]\n",
    "tv = [node['id'] for node in g['nodes'] if node['class_name'] == 'tv'][0]\n",
    "table = [node['id'] for node in g['nodes'] if node['class_name'] == 'kitchentable'][0]\n",
    "microwave = [node['id'] for node in g['nodes'] if node['class_name'] == 'microwave'][0]\n",
    "faucet_id = [node['id'] for node in g['nodes'] if node['class_name'] == 'faucet'][-1]\n",
    "\n",
    "\n",
    "# get the light nodes in the scene\n",
    "light_nodes = []\n",
    "\n",
    "for light_node in [node for node in g['nodes'] if node['class_name'] == 'lightswitch']:\n",
    "    light_nodes.append(light_node)\n",
    "light_node = [x for x in g['nodes'] if x['class_name'] == 'lightswitch']"
   ]
  },
  {
   "cell_type": "code",
   "execution_count": 16,
   "metadata": {},
   "outputs": [],
   "source": [
    "# Turn on all the lights in the house\n",
    "\n",
    "script = [\n",
    "        '<char0> [switchon] <lightswitch> ({})'.format(light_nodes[3]['id']),\n",
    "        '<char0> [switchon] <lightswitch> ({})'.format(light_nodes[0]['id']),      \n",
    "          '<char0> [switchon] <lightswitch> ({})'.format(light_nodes[1]['id']),\n",
    "          '<char0> [switchon] <lightswitch> ({})'.format(light_nodes[2]['id']),\n",
    "          # Move the apple to the desk\n",
    "            '<char0> [grab] <apple> ({})'.format(apple), \n",
    "          '<char0> [put] <apple> ({}) <desk> ({})'.format(apple, desk),\n",
    "            # open fridge\n",
    "          '<char0> [walk] <fridge> ({})'.format(fridge),\n",
    "          '<char0> [open] <fridge> ({})'.format(fridge),\n",
    "            # close fridge\n",
    "            '<char0> [close] <fridge> ({})'.format(fridge),\n",
    "\n",
    "          # turn on faucet\n",
    "          '<char0> [walk] <faucet> ({})'.format(faucet_id),\n",
    "          '<char0> [switchon] <faucet> ({})'.format(faucet_id),\n",
    "            # Turn on microwave\n",
    "          '<char0> [walk] <microwave> ({})'.format(microwave),\n",
    "          # Open microwave\n",
    "            '<char0> [open] <microwave> ({})'.format(microwave),\n",
    "            # close microwave\n",
    "            '<char0> [close] <microwave> ({})'.format(microwave),\n",
    "          '<char0> [switchon] <microwave> ({})'.format(microwave),\n",
    "\n",
    "            '<char0> [walk] <tv> ({})'.format(tv),\n",
    "          '<char0> [switchon] <tv> ({})'.format(tv),\n",
    "          # walk to facuet\n",
    "            '<char0> [walk] <faucet> ({})'.format(faucet_id),\n",
    "            # turn off faucet\n",
    "            '<char0> [switchoff] <faucet> ({})'.format(faucet_id),\n",
    "            '<char0> [walk] <kitchentable> ({})'.format(table)\n",
    "\n",
    "         ]\n",
    "\n",
    "success, message = comm.render_script(script=script[0:20], \n",
    "                                    find_solution=True,\n",
    "                                    processing_time_limit=200,\n",
    "                                    frame_rate=15,\n",
    "                                    image_width=640, image_height=480,\n",
    "                                    # image_width=512, image_height=320,\n",
    "                                    skip_animation=False,\n",
    "                                    image_synthesis=['normal'],\n",
    "                                    camera_mode=['PERSON_FROM_BACK'],\n",
    "                                    recording=True)"
   ]
  },
  {
   "cell_type": "code",
   "execution_count": null,
   "metadata": {},
   "outputs": [],
   "source": []
  }
 ],
 "metadata": {
  "kernelspec": {
   "display_name": "virtualhomeenv",
   "language": "python",
   "name": "python3"
  },
  "language_info": {
   "codemirror_mode": {
    "name": "ipython",
    "version": 3
   },
   "file_extension": ".py",
   "mimetype": "text/x-python",
   "name": "python",
   "nbconvert_exporter": "python",
   "pygments_lexer": "ipython3",
   "version": "3.8.16"
  },
  "orig_nbformat": 4,
  "vscode": {
   "interpreter": {
    "hash": "c23d8142082a4280bf91bb163a2489a9972316998e3cba18bfb5c6f25e751ddf"
   }
  }
 },
 "nbformat": 4,
 "nbformat_minor": 2
}
